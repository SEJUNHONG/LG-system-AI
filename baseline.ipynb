{
 "cells": [
  {
   "cell_type": "code",
   "execution_count": 1,
   "metadata": {},
   "outputs": [],
   "source": [
    "import numpy as np\n",
    "import pandas as pd\n",
    "import datetime as dt\n",
    "import matplotlib.pyplot as plt\n",
    "from tqdm import tqdm\n",
    "import gc \n",
    "import random\n",
    "import lightgbm as lgb\n",
    "import re\n",
    "from sklearn.metrics import *\n",
    "from sklearn.model_selection import KFold\n",
    "import warnings\n",
    "warnings.filterwarnings(action='ignore')"
   ]
  },
  {
   "cell_type": "code",
   "execution_count": 2,
   "metadata": {},
   "outputs": [],
   "source": [
    "def make_datetime(x):\n",
    "    x=str(x)\n",
    "    year=int(x[:4])\n",
    "    month=int(x[4:6])\n",
    "    day=int(x[6:8])\n",
    "    hour=int(x[8:10])\n",
    "    minute=int(x[10:12])\n",
    "    sec=int(x[12:])\n",
    "    return dt.datetime(year, month, day, hour)"
   ]
  },
  {
   "cell_type": "code",
   "execution_count": 3,
   "metadata": {},
   "outputs": [],
   "source": [
    "def string2num(x):\n",
    "    x=re.sub(r\"[^0-9]+\", '', str(x))\n",
    "    if x=='':\n",
    "        return 0\n",
    "    else:\n",
    "        return int(x)"
   ]
  },
  {
   "cell_type": "code",
   "execution_count": 4,
   "metadata": {},
   "outputs": [
    {
     "data": {
      "text/html": [
       "<div>\n",
       "<style scoped>\n",
       "    .dataframe tbody tr th:only-of-type {\n",
       "        vertical-align: middle;\n",
       "    }\n",
       "\n",
       "    .dataframe tbody tr th {\n",
       "        vertical-align: top;\n",
       "    }\n",
       "\n",
       "    .dataframe thead th {\n",
       "        text-align: right;\n",
       "    }\n",
       "</style>\n",
       "<table border=\"1\" class=\"dataframe\">\n",
       "  <thead>\n",
       "    <tr style=\"text-align: right;\">\n",
       "      <th></th>\n",
       "      <th>user_id</th>\n",
       "      <th>time</th>\n",
       "      <th>model_nm</th>\n",
       "      <th>fwver</th>\n",
       "      <th>errtype</th>\n",
       "      <th>errcode</th>\n",
       "    </tr>\n",
       "  </thead>\n",
       "  <tbody>\n",
       "    <tr>\n",
       "      <th>0</th>\n",
       "      <td>10000</td>\n",
       "      <td>20201101025616</td>\n",
       "      <td>model_3</td>\n",
       "      <td>05.15.2138</td>\n",
       "      <td>15</td>\n",
       "      <td>1</td>\n",
       "    </tr>\n",
       "    <tr>\n",
       "      <th>1</th>\n",
       "      <td>10000</td>\n",
       "      <td>20201101030309</td>\n",
       "      <td>model_3</td>\n",
       "      <td>05.15.2138</td>\n",
       "      <td>12</td>\n",
       "      <td>1</td>\n",
       "    </tr>\n",
       "    <tr>\n",
       "      <th>2</th>\n",
       "      <td>10000</td>\n",
       "      <td>20201101030309</td>\n",
       "      <td>model_3</td>\n",
       "      <td>05.15.2138</td>\n",
       "      <td>11</td>\n",
       "      <td>1</td>\n",
       "    </tr>\n",
       "    <tr>\n",
       "      <th>3</th>\n",
       "      <td>10000</td>\n",
       "      <td>20201101050514</td>\n",
       "      <td>model_3</td>\n",
       "      <td>05.15.2138</td>\n",
       "      <td>16</td>\n",
       "      <td>1</td>\n",
       "    </tr>\n",
       "    <tr>\n",
       "      <th>4</th>\n",
       "      <td>10000</td>\n",
       "      <td>20201101050515</td>\n",
       "      <td>model_3</td>\n",
       "      <td>05.15.2138</td>\n",
       "      <td>4</td>\n",
       "      <td>0</td>\n",
       "    </tr>\n",
       "    <tr>\n",
       "      <th>...</th>\n",
       "      <td>...</td>\n",
       "      <td>...</td>\n",
       "      <td>...</td>\n",
       "      <td>...</td>\n",
       "      <td>...</td>\n",
       "      <td>...</td>\n",
       "    </tr>\n",
       "    <tr>\n",
       "      <th>16554658</th>\n",
       "      <td>24999</td>\n",
       "      <td>20201130163051</td>\n",
       "      <td>model_3</td>\n",
       "      <td>05.15.2138</td>\n",
       "      <td>15</td>\n",
       "      <td>1</td>\n",
       "    </tr>\n",
       "    <tr>\n",
       "      <th>16554659</th>\n",
       "      <td>24999</td>\n",
       "      <td>20201130172625</td>\n",
       "      <td>model_3</td>\n",
       "      <td>05.15.2138</td>\n",
       "      <td>16</td>\n",
       "      <td>1</td>\n",
       "    </tr>\n",
       "    <tr>\n",
       "      <th>16554660</th>\n",
       "      <td>24999</td>\n",
       "      <td>20201130172625</td>\n",
       "      <td>model_3</td>\n",
       "      <td>05.15.2138</td>\n",
       "      <td>4</td>\n",
       "      <td>0</td>\n",
       "    </tr>\n",
       "    <tr>\n",
       "      <th>16554661</th>\n",
       "      <td>24999</td>\n",
       "      <td>20201130172631</td>\n",
       "      <td>model_3</td>\n",
       "      <td>05.15.2138</td>\n",
       "      <td>4</td>\n",
       "      <td>0</td>\n",
       "    </tr>\n",
       "    <tr>\n",
       "      <th>16554662</th>\n",
       "      <td>24999</td>\n",
       "      <td>20201130210625</td>\n",
       "      <td>model_3</td>\n",
       "      <td>05.15.2138</td>\n",
       "      <td>15</td>\n",
       "      <td>1</td>\n",
       "    </tr>\n",
       "  </tbody>\n",
       "</table>\n",
       "<p>16554663 rows × 6 columns</p>\n",
       "</div>"
      ],
      "text/plain": [
       "          user_id            time model_nm       fwver  errtype errcode\n",
       "0           10000  20201101025616  model_3  05.15.2138       15       1\n",
       "1           10000  20201101030309  model_3  05.15.2138       12       1\n",
       "2           10000  20201101030309  model_3  05.15.2138       11       1\n",
       "3           10000  20201101050514  model_3  05.15.2138       16       1\n",
       "4           10000  20201101050515  model_3  05.15.2138        4       0\n",
       "...           ...             ...      ...         ...      ...     ...\n",
       "16554658    24999  20201130163051  model_3  05.15.2138       15       1\n",
       "16554659    24999  20201130172625  model_3  05.15.2138       16       1\n",
       "16554660    24999  20201130172625  model_3  05.15.2138        4       0\n",
       "16554661    24999  20201130172631  model_3  05.15.2138        4       0\n",
       "16554662    24999  20201130210625  model_3  05.15.2138       15       1\n",
       "\n",
       "[16554663 rows x 6 columns]"
      ]
     },
     "execution_count": 4,
     "metadata": {},
     "output_type": "execute_result"
    }
   ],
   "source": [
    "train_err=pd.read_csv('train_err_data.csv')\n",
    "train_err"
   ]
  },
  {
   "cell_type": "code",
   "execution_count": 5,
   "metadata": {
    "scrolled": false
   },
   "outputs": [
    {
     "data": {
      "text/plain": [
       "user_id              13639\n",
       "time        20201121191718\n",
       "model_nm           model_2\n",
       "fwver           04.33.1261\n",
       "errtype                  5\n",
       "errcode                NaN\n",
       "Name: 3825744, dtype: object"
      ]
     },
     "execution_count": 5,
     "metadata": {},
     "output_type": "execute_result"
    }
   ],
   "source": [
    "train_err.loc[3825744]"
   ]
  },
  {
   "cell_type": "code",
   "execution_count": 6,
   "metadata": {},
   "outputs": [],
   "source": [
    "train_err['errcode_New'] = np.where(pd.notnull(train_err['errcode']) == True, train_err['errcode'], 'B-A8002')"
   ]
  },
  {
   "cell_type": "code",
   "execution_count": 7,
   "metadata": {},
   "outputs": [
    {
     "data": {
      "text/plain": [
       "user_id                 13639\n",
       "time           20201121191718\n",
       "model_nm              model_2\n",
       "fwver              04.33.1261\n",
       "errtype                     5\n",
       "errcode                   NaN\n",
       "errcode_New           B-A8002\n",
       "Name: 3825744, dtype: object"
      ]
     },
     "execution_count": 7,
     "metadata": {},
     "output_type": "execute_result"
    }
   ],
   "source": [
    "train_err.loc[3825744]"
   ]
  },
  {
   "cell_type": "code",
   "execution_count": 8,
   "metadata": {
    "scrolled": true
   },
   "outputs": [
    {
     "data": {
      "text/plain": [
       "23    2276515\n",
       "31    1985294\n",
       "22    1865361\n",
       "15    1604951\n",
       "4     1296750\n",
       "16    1249376\n",
       "32    1130564\n",
       "5      952920\n",
       "40     730378\n",
       "28     544306\n",
       "27     540804\n",
       "26     536401\n",
       "12     320181\n",
       "11     307030\n",
       "14     252015\n",
       "33     178477\n",
       "34     165536\n",
       "10     133403\n",
       "41     104138\n",
       "7       51993\n",
       "6       50482\n",
       "17      46009\n",
       "24      39071\n",
       "42      34374\n",
       "3       30758\n",
       "2       26106\n",
       "13      22843\n",
       "1       21545\n",
       "39      15820\n",
       "35      10187\n",
       "37       9336\n",
       "36       9317\n",
       "38       4539\n",
       "18       2671\n",
       "20       2080\n",
       "25       1184\n",
       "19        664\n",
       "21        607\n",
       "30        402\n",
       "8         166\n",
       "9         109\n",
       "Name: errtype, dtype: int64"
      ]
     },
     "execution_count": 8,
     "metadata": {},
     "output_type": "execute_result"
    }
   ],
   "source": [
    "train_err['errtype'].value_counts()"
   ]
  },
  {
   "cell_type": "code",
   "execution_count": 9,
   "metadata": {},
   "outputs": [
    {
     "data": {
      "text/html": [
       "<div>\n",
       "<style scoped>\n",
       "    .dataframe tbody tr th:only-of-type {\n",
       "        vertical-align: middle;\n",
       "    }\n",
       "\n",
       "    .dataframe tbody tr th {\n",
       "        vertical-align: top;\n",
       "    }\n",
       "\n",
       "    .dataframe thead th {\n",
       "        text-align: right;\n",
       "    }\n",
       "</style>\n",
       "<table border=\"1\" class=\"dataframe\">\n",
       "  <thead>\n",
       "    <tr style=\"text-align: right;\">\n",
       "      <th></th>\n",
       "      <th>user_id</th>\n",
       "      <th>time</th>\n",
       "      <th>model_nm</th>\n",
       "      <th>fwver</th>\n",
       "      <th>errtype</th>\n",
       "      <th>errcode</th>\n",
       "      <th>errcode_New</th>\n",
       "    </tr>\n",
       "  </thead>\n",
       "  <tbody>\n",
       "    <tr>\n",
       "      <th>3823076</th>\n",
       "      <td>13639</td>\n",
       "      <td>20201101000004</td>\n",
       "      <td>model_2</td>\n",
       "      <td>04.33.1185</td>\n",
       "      <td>2</td>\n",
       "      <td>0</td>\n",
       "      <td>0</td>\n",
       "    </tr>\n",
       "    <tr>\n",
       "      <th>3823077</th>\n",
       "      <td>13639</td>\n",
       "      <td>20201101000533</td>\n",
       "      <td>model_2</td>\n",
       "      <td>04.33.1185</td>\n",
       "      <td>2</td>\n",
       "      <td>0</td>\n",
       "      <td>0</td>\n",
       "    </tr>\n",
       "    <tr>\n",
       "      <th>3823078</th>\n",
       "      <td>13639</td>\n",
       "      <td>20201101002914</td>\n",
       "      <td>model_2</td>\n",
       "      <td>04.33.1185</td>\n",
       "      <td>2</td>\n",
       "      <td>1</td>\n",
       "      <td>1</td>\n",
       "    </tr>\n",
       "    <tr>\n",
       "      <th>3823079</th>\n",
       "      <td>13639</td>\n",
       "      <td>20201101002924</td>\n",
       "      <td>model_2</td>\n",
       "      <td>04.33.1185</td>\n",
       "      <td>2</td>\n",
       "      <td>0</td>\n",
       "      <td>0</td>\n",
       "    </tr>\n",
       "    <tr>\n",
       "      <th>3823080</th>\n",
       "      <td>13639</td>\n",
       "      <td>20201101003121</td>\n",
       "      <td>model_2</td>\n",
       "      <td>04.33.1185</td>\n",
       "      <td>2</td>\n",
       "      <td>1</td>\n",
       "      <td>1</td>\n",
       "    </tr>\n",
       "    <tr>\n",
       "      <th>...</th>\n",
       "      <td>...</td>\n",
       "      <td>...</td>\n",
       "      <td>...</td>\n",
       "      <td>...</td>\n",
       "      <td>...</td>\n",
       "      <td>...</td>\n",
       "      <td>...</td>\n",
       "    </tr>\n",
       "    <tr>\n",
       "      <th>3825960</th>\n",
       "      <td>13639</td>\n",
       "      <td>20201130220302</td>\n",
       "      <td>model_2</td>\n",
       "      <td>04.33.1261</td>\n",
       "      <td>16</td>\n",
       "      <td>1</td>\n",
       "      <td>1</td>\n",
       "    </tr>\n",
       "    <tr>\n",
       "      <th>3825961</th>\n",
       "      <td>13639</td>\n",
       "      <td>20201130220303</td>\n",
       "      <td>model_2</td>\n",
       "      <td>04.33.1261</td>\n",
       "      <td>40</td>\n",
       "      <td>0</td>\n",
       "      <td>0</td>\n",
       "    </tr>\n",
       "    <tr>\n",
       "      <th>3825962</th>\n",
       "      <td>13639</td>\n",
       "      <td>20201130220306</td>\n",
       "      <td>model_2</td>\n",
       "      <td>04.33.1261</td>\n",
       "      <td>31</td>\n",
       "      <td>1</td>\n",
       "      <td>1</td>\n",
       "    </tr>\n",
       "    <tr>\n",
       "      <th>3825963</th>\n",
       "      <td>13639</td>\n",
       "      <td>20201130220318</td>\n",
       "      <td>model_2</td>\n",
       "      <td>04.33.1261</td>\n",
       "      <td>31</td>\n",
       "      <td>0</td>\n",
       "      <td>0</td>\n",
       "    </tr>\n",
       "    <tr>\n",
       "      <th>3825964</th>\n",
       "      <td>13639</td>\n",
       "      <td>20201130230500</td>\n",
       "      <td>model_2</td>\n",
       "      <td>04.33.1261</td>\n",
       "      <td>15</td>\n",
       "      <td>1</td>\n",
       "      <td>1</td>\n",
       "    </tr>\n",
       "  </tbody>\n",
       "</table>\n",
       "<p>2889 rows × 7 columns</p>\n",
       "</div>"
      ],
      "text/plain": [
       "         user_id            time model_nm       fwver  errtype errcode  \\\n",
       "3823076    13639  20201101000004  model_2  04.33.1185        2       0   \n",
       "3823077    13639  20201101000533  model_2  04.33.1185        2       0   \n",
       "3823078    13639  20201101002914  model_2  04.33.1185        2       1   \n",
       "3823079    13639  20201101002924  model_2  04.33.1185        2       0   \n",
       "3823080    13639  20201101003121  model_2  04.33.1185        2       1   \n",
       "...          ...             ...      ...         ...      ...     ...   \n",
       "3825960    13639  20201130220302  model_2  04.33.1261       16       1   \n",
       "3825961    13639  20201130220303  model_2  04.33.1261       40       0   \n",
       "3825962    13639  20201130220306  model_2  04.33.1261       31       1   \n",
       "3825963    13639  20201130220318  model_2  04.33.1261       31       0   \n",
       "3825964    13639  20201130230500  model_2  04.33.1261       15       1   \n",
       "\n",
       "        errcode_New  \n",
       "3823076           0  \n",
       "3823077           0  \n",
       "3823078           1  \n",
       "3823079           0  \n",
       "3823080           1  \n",
       "...             ...  \n",
       "3825960           1  \n",
       "3825961           0  \n",
       "3825962           1  \n",
       "3825963           0  \n",
       "3825964           1  \n",
       "\n",
       "[2889 rows x 7 columns]"
      ]
     },
     "execution_count": 9,
     "metadata": {},
     "output_type": "execute_result"
    }
   ],
   "source": [
    "t=train_err[train_err['user_id']==13639]\n",
    "t"
   ]
  },
  {
   "cell_type": "code",
   "execution_count": 10,
   "metadata": {},
   "outputs": [],
   "source": [
    "tt=t[t['model_nm']=='model_2']"
   ]
  },
  {
   "cell_type": "code",
   "execution_count": 11,
   "metadata": {},
   "outputs": [],
   "source": [
    "ttt=tt[tt['fwver']=='04.33.1261']"
   ]
  },
  {
   "cell_type": "code",
   "execution_count": 12,
   "metadata": {},
   "outputs": [],
   "source": [
    "ttt=ttt[ttt['errtype']==5]"
   ]
  },
  {
   "cell_type": "code",
   "execution_count": 13,
   "metadata": {},
   "outputs": [
    {
     "data": {
      "text/plain": [
       "B-A8002    61\n",
       "H-51042     2\n",
       "40013       1\n",
       "Name: errcode, dtype: int64"
      ]
     },
     "execution_count": 13,
     "metadata": {},
     "output_type": "execute_result"
    }
   ],
   "source": [
    "ttt['errcode'].value_counts()"
   ]
  },
  {
   "cell_type": "code",
   "execution_count": null,
   "metadata": {},
   "outputs": [],
   "source": []
  },
  {
   "cell_type": "code",
   "execution_count": null,
   "metadata": {},
   "outputs": [],
   "source": []
  },
  {
   "cell_type": "code",
   "execution_count": 14,
   "metadata": {
    "scrolled": true
   },
   "outputs": [
    {
     "data": {
      "text/plain": [
       "15000"
      ]
     },
     "execution_count": 14,
     "metadata": {},
     "output_type": "execute_result"
    }
   ],
   "source": [
    "train_user_number=len(train_err['user_id'].unique())\n",
    "train_user_id_min = 10000\n",
    "train_user_number"
   ]
  },
  {
   "cell_type": "code",
   "execution_count": 15,
   "metadata": {
    "scrolled": true
   },
   "outputs": [
    {
     "data": {
      "text/plain": [
       "41"
      ]
     },
     "execution_count": 15,
     "metadata": {},
     "output_type": "execute_result"
    }
   ],
   "source": [
    "len(np.sort(train_err['errtype'].unique()))"
   ]
  },
  {
   "cell_type": "code",
   "execution_count": 16,
   "metadata": {},
   "outputs": [
    {
     "data": {
      "text/plain": [
       "array([[10000,    15],\n",
       "       [10000,    12],\n",
       "       [10000,    11],\n",
       "       ...,\n",
       "       [24999,     4],\n",
       "       [24999,     4],\n",
       "       [24999,    15]], dtype=int64)"
      ]
     },
     "execution_count": 16,
     "metadata": {},
     "output_type": "execute_result"
    }
   ],
   "source": [
    "id_error=train_err[['user_id','errtype']].values\n",
    "id_error"
   ]
  },
  {
   "cell_type": "code",
   "execution_count": 17,
   "metadata": {
    "scrolled": true
   },
   "outputs": [
    {
     "data": {
      "text/plain": [
       "array([[0., 0., 0., ..., 0., 0., 0.],\n",
       "       [0., 0., 0., ..., 0., 0., 0.],\n",
       "       [0., 0., 0., ..., 0., 0., 0.],\n",
       "       ...,\n",
       "       [0., 0., 0., ..., 0., 0., 0.],\n",
       "       [0., 0., 0., ..., 0., 0., 0.],\n",
       "       [0., 0., 0., ..., 0., 0., 0.]])"
      ]
     },
     "execution_count": 17,
     "metadata": {},
     "output_type": "execute_result"
    }
   ],
   "source": [
    "error=np.zeros((train_user_number, 42))\n",
    "error"
   ]
  },
  {
   "cell_type": "code",
   "execution_count": 18,
   "metadata": {},
   "outputs": [
    {
     "name": "stderr",
     "output_type": "stream",
     "text": [
      "100%|███████████████████████████████████████████████████████████████████| 16554663/16554663 [03:10<00:00, 86929.33it/s]\n"
     ]
    },
    {
     "data": {
      "text/plain": [
       "array([[  0.,   0.,   8., ...,   0.,   0.,   0.],\n",
       "       [  0.,   0.,   0., ..., 113.,  56.,   1.],\n",
       "       [  0.,   0.,   2., ...,   0.,   0.,   0.],\n",
       "       ...,\n",
       "       [  0.,   0.,   0., ...,  58.,   8.,   5.],\n",
       "       [  0.,   0.,   0., ...,   6.,   0.,   0.],\n",
       "       [  0.,   0.,   4., ...,   0.,   0.,   0.]])"
      ]
     },
     "execution_count": 18,
     "metadata": {},
     "output_type": "execute_result"
    }
   ],
   "source": [
    "for person_idx, err in tqdm(id_error):\n",
    "    error[person_idx-train_user_id_min, err-1]+=1\n",
    "error"
   ]
  },
  {
   "cell_type": "code",
   "execution_count": 19,
   "metadata": {},
   "outputs": [
    {
     "data": {
      "text/html": [
       "<div>\n",
       "<style scoped>\n",
       "    .dataframe tbody tr th:only-of-type {\n",
       "        vertical-align: middle;\n",
       "    }\n",
       "\n",
       "    .dataframe tbody tr th {\n",
       "        vertical-align: top;\n",
       "    }\n",
       "\n",
       "    .dataframe thead th {\n",
       "        text-align: right;\n",
       "    }\n",
       "</style>\n",
       "<table border=\"1\" class=\"dataframe\">\n",
       "  <thead>\n",
       "    <tr style=\"text-align: right;\">\n",
       "      <th></th>\n",
       "      <th>user_id</th>\n",
       "      <th>time</th>\n",
       "    </tr>\n",
       "  </thead>\n",
       "  <tbody>\n",
       "    <tr>\n",
       "      <th>0</th>\n",
       "      <td>19224</td>\n",
       "      <td>20201102200000</td>\n",
       "    </tr>\n",
       "    <tr>\n",
       "      <th>1</th>\n",
       "      <td>23664</td>\n",
       "      <td>20201116140000</td>\n",
       "    </tr>\n",
       "    <tr>\n",
       "      <th>2</th>\n",
       "      <td>15166</td>\n",
       "      <td>20201114130000</td>\n",
       "    </tr>\n",
       "    <tr>\n",
       "      <th>3</th>\n",
       "      <td>12590</td>\n",
       "      <td>20201108210000</td>\n",
       "    </tr>\n",
       "    <tr>\n",
       "      <th>4</th>\n",
       "      <td>15932</td>\n",
       "      <td>20201103210000</td>\n",
       "    </tr>\n",
       "    <tr>\n",
       "      <th>...</th>\n",
       "      <td>...</td>\n",
       "      <td>...</td>\n",
       "    </tr>\n",
       "    <tr>\n",
       "      <th>5424</th>\n",
       "      <td>20167</td>\n",
       "      <td>20201125120000</td>\n",
       "    </tr>\n",
       "    <tr>\n",
       "      <th>5425</th>\n",
       "      <td>16270</td>\n",
       "      <td>20201110120000</td>\n",
       "    </tr>\n",
       "    <tr>\n",
       "      <th>5426</th>\n",
       "      <td>19114</td>\n",
       "      <td>20201106230000</td>\n",
       "    </tr>\n",
       "    <tr>\n",
       "      <th>5427</th>\n",
       "      <td>21505</td>\n",
       "      <td>20201104110000</td>\n",
       "    </tr>\n",
       "    <tr>\n",
       "      <th>5428</th>\n",
       "      <td>18822</td>\n",
       "      <td>20201102120000</td>\n",
       "    </tr>\n",
       "  </tbody>\n",
       "</table>\n",
       "<p>5429 rows × 2 columns</p>\n",
       "</div>"
      ],
      "text/plain": [
       "      user_id            time\n",
       "0       19224  20201102200000\n",
       "1       23664  20201116140000\n",
       "2       15166  20201114130000\n",
       "3       12590  20201108210000\n",
       "4       15932  20201103210000\n",
       "...       ...             ...\n",
       "5424    20167  20201125120000\n",
       "5425    16270  20201110120000\n",
       "5426    19114  20201106230000\n",
       "5427    21505  20201104110000\n",
       "5428    18822  20201102120000\n",
       "\n",
       "[5429 rows x 2 columns]"
      ]
     },
     "execution_count": 19,
     "metadata": {},
     "output_type": "execute_result"
    }
   ],
   "source": [
    "train_prob=pd.read_csv('train_problem_data.csv')\n",
    "train_prob"
   ]
  },
  {
   "cell_type": "code",
   "execution_count": 20,
   "metadata": {},
   "outputs": [
    {
     "data": {
      "text/plain": [
       "array([0., 1., 0., ..., 1., 1., 0.])"
      ]
     },
     "execution_count": 20,
     "metadata": {},
     "output_type": "execute_result"
    }
   ],
   "source": [
    "problem=np.zeros(15000)\n",
    "problem[train_prob['user_id'].unique()-10000]=1\n",
    "problem"
   ]
  },
  {
   "cell_type": "code",
   "execution_count": 21,
   "metadata": {},
   "outputs": [],
   "source": [
    "train_x=error\n",
    "train_y=problem"
   ]
  },
  {
   "cell_type": "code",
   "execution_count": 22,
   "metadata": {},
   "outputs": [],
   "source": [
    "del error, problem"
   ]
  },
  {
   "cell_type": "code",
   "execution_count": 23,
   "metadata": {},
   "outputs": [
    {
     "name": "stdout",
     "output_type": "stream",
     "text": [
      "[[  0.   0.   8. ...   0.   0.   0.]\n",
      " [  0.   0.   0. ... 113.  56.   1.]\n",
      " [  0.   0.   2. ...   0.   0.   0.]\n",
      " ...\n",
      " [  0.   0.   0. ...  58.   8.   5.]\n",
      " [  0.   0.   0. ...   6.   0.   0.]\n",
      " [  0.   0.   4. ...   0.   0.   0.]]\n",
      "[0. 1. 0. ... 1. 1. 0.]\n"
     ]
    }
   ],
   "source": [
    "print(train_x)\n",
    "print(train_y)"
   ]
  },
  {
   "cell_type": "code",
   "execution_count": 48,
   "metadata": {
    "scrolled": false
   },
   "outputs": [
    {
     "name": "stdout",
     "output_type": "stream",
     "text": [
      "[LightGBM] [Info] Number of positive: 3633, number of negative: 8367\n",
      "[LightGBM] [Warning] Auto-choosing row-wise multi-threading, the overhead of testing was 0.006628 seconds.\n",
      "You can set `force_row_wise=true` to remove the overhead.\n",
      "And if memory is not enough, you can set `force_col_wise=true`.\n",
      "[LightGBM] [Info] Total Bins 4353\n",
      "[LightGBM] [Info] Number of data points in the train set: 12000, number of used features: 41\n",
      "[LightGBM] [Info] [binary:BoostFromScore]: pavg=0.302750 -> initscore=-0.834237\n",
      "[LightGBM] [Info] Start training from score -0.834237\n",
      "[10]\tvalid_0's auc: 0.791239\tvalid_0's pr_auc: 0.788821\n",
      "[20]\tvalid_0's auc: 0.797482\tvalid_0's pr_auc: 0.79351\n",
      "[30]\tvalid_0's auc: 0.801818\tvalid_0's pr_auc: 0.798739\n",
      "[40]\tvalid_0's auc: 0.801538\tvalid_0's pr_auc: 0.799164\n",
      "[50]\tvalid_0's auc: 0.80098\tvalid_0's pr_auc: 0.799982\n",
      "==========================================================\n",
      "[LightGBM] [Info] Number of positive: 4828, number of negative: 7172\n",
      "[LightGBM] [Warning] Auto-choosing row-wise multi-threading, the overhead of testing was 0.002150 seconds.\n",
      "You can set `force_row_wise=true` to remove the overhead.\n",
      "And if memory is not enough, you can set `force_col_wise=true`.\n",
      "[LightGBM] [Info] Total Bins 4499\n",
      "[LightGBM] [Info] Number of data points in the train set: 12000, number of used features: 41\n",
      "[LightGBM] [Info] [binary:BoostFromScore]: pavg=0.402333 -> initscore=-0.395752\n",
      "[LightGBM] [Info] Start training from score -0.395752\n",
      "[10]\tvalid_0's auc: 0.806797\tvalid_0's pr_auc: 0.38026\n",
      "[20]\tvalid_0's auc: 0.807836\tvalid_0's pr_auc: 0.345925\n",
      "[30]\tvalid_0's auc: 0.806403\tvalid_0's pr_auc: 0.33204\n",
      "[40]\tvalid_0's auc: 0.807818\tvalid_0's pr_auc: 0.350961\n",
      "[50]\tvalid_0's auc: 0.805786\tvalid_0's pr_auc: 0.355749\n",
      "==========================================================\n",
      "[LightGBM] [Info] Number of positive: 4718, number of negative: 7282\n",
      "[LightGBM] [Warning] Auto-choosing row-wise multi-threading, the overhead of testing was 0.011202 seconds.\n",
      "You can set `force_row_wise=true` to remove the overhead.\n",
      "And if memory is not enough, you can set `force_col_wise=true`.\n",
      "[LightGBM] [Info] Total Bins 4606\n",
      "[LightGBM] [Info] Number of data points in the train set: 12000, number of used features: 41\n",
      "[LightGBM] [Info] [binary:BoostFromScore]: pavg=0.393167 -> initscore=-0.434021\n",
      "[LightGBM] [Info] Start training from score -0.434021\n",
      "[10]\tvalid_0's auc: 0.769601\tvalid_0's pr_auc: 0.378852\n",
      "[20]\tvalid_0's auc: 0.779212\tvalid_0's pr_auc: 0.381082\n",
      "[30]\tvalid_0's auc: 0.784083\tvalid_0's pr_auc: 0.378846\n",
      "[40]\tvalid_0's auc: 0.782923\tvalid_0's pr_auc: 0.394243\n",
      "[50]\tvalid_0's auc: 0.783745\tvalid_0's pr_auc: 0.395071\n",
      "==========================================================\n",
      "[LightGBM] [Info] Number of positive: 4544, number of negative: 7456\n",
      "[LightGBM] [Warning] Auto-choosing row-wise multi-threading, the overhead of testing was 0.032397 seconds.\n",
      "You can set `force_row_wise=true` to remove the overhead.\n",
      "And if memory is not enough, you can set `force_col_wise=true`.\n",
      "[LightGBM] [Info] Total Bins 4510\n",
      "[LightGBM] [Info] Number of data points in the train set: 12000, number of used features: 41\n",
      "[LightGBM] [Info] [binary:BoostFromScore]: pavg=0.378667 -> initscore=-0.495211\n",
      "[LightGBM] [Info] Start training from score -0.495211\n",
      "[10]\tvalid_0's auc: 0.807486\tvalid_0's pr_auc: 0.551353\n",
      "[20]\tvalid_0's auc: 0.811814\tvalid_0's pr_auc: 0.54566\n",
      "[30]\tvalid_0's auc: 0.813215\tvalid_0's pr_auc: 0.532977\n",
      "[40]\tvalid_0's auc: 0.814705\tvalid_0's pr_auc: 0.541484\n",
      "[50]\tvalid_0's auc: 0.814698\tvalid_0's pr_auc: 0.539016\n",
      "==========================================================\n",
      "[LightGBM] [Info] Number of positive: 2277, number of negative: 9723\n",
      "[LightGBM] [Warning] Auto-choosing row-wise multi-threading, the overhead of testing was 0.010832 seconds.\n",
      "You can set `force_row_wise=true` to remove the overhead.\n",
      "And if memory is not enough, you can set `force_col_wise=true`.\n",
      "[LightGBM] [Info] Total Bins 4280\n",
      "[LightGBM] [Info] Number of data points in the train set: 12000, number of used features: 41\n",
      "[LightGBM] [Info] [binary:BoostFromScore]: pavg=0.189750 -> initscore=-1.451635\n",
      "[LightGBM] [Info] Start training from score -1.451635\n",
      "[10]\tvalid_0's auc: 0.800776\tvalid_0's pr_auc: 0.974231\n",
      "[20]\tvalid_0's auc: 0.805665\tvalid_0's pr_auc: 0.974771\n",
      "[30]\tvalid_0's auc: 0.807869\tvalid_0's pr_auc: 0.97512\n",
      "[40]\tvalid_0's auc: 0.807698\tvalid_0's pr_auc: 0.974882\n",
      "[50]\tvalid_0's auc: 0.808733\tvalid_0's pr_auc: 0.975081\n",
      "==========================================================\n"
     ]
    }
   ],
   "source": [
    "# Train\n",
    "#-------------------------------------------------------------------------------------\n",
    "# validation auc score를 확인하기 위해 정의\n",
    "def f_pr_auc(probas_pred, y_true):\n",
    "    labels=y_true.get_label()\n",
    "    p, r, _ = precision_recall_curve(labels, probas_pred)\n",
    "    score=auc(r,p) \n",
    "    return \"pr_auc\", score, True\n",
    "#-------------------------------------------------------------------------------------\n",
    "models     = []\n",
    "recalls    = []\n",
    "precisions = []\n",
    "auc_scores   = []\n",
    "threshold = 0.5\n",
    "# 파라미터 설정\n",
    "params =      {\n",
    "                'boosting_type' : 'gbdt',\n",
    "                'objective'     : 'binary',\n",
    "                'metric'        : 'auc',\n",
    "                'seed': 1015\n",
    "                }\n",
    "#-------------------------------------------------------------------------------------\n",
    "# 5 Kfold cross validation\n",
    "k_fold = KFold(n_splits=5, shuffle=True, random_state=42)\n",
    "for train_idx, val_idx in k_fold.split(train_x):\n",
    "\n",
    "    # split train, validation set\n",
    "    X = train_x[train_idx]\n",
    "    y = train_y[train_idx]\n",
    "    valid_x = train_x[val_idx]\n",
    "    valid_y = train_y[val_idx]\n",
    "\n",
    "    d_train= lgb.Dataset(X, y)\n",
    "    d_val  = lgb.Dataset(valid_x, valid_y)\n",
    "    \n",
    "    #run traning\n",
    "    model = lgb.train(\n",
    "                        params,\n",
    "                        train_set       = d_train,\n",
    "                        num_boost_round = 50,\n",
    "                        valid_sets      = d_val,\n",
    "                        feval           = f_pr_auc,\n",
    "                        verbose_eval    = 10\n",
    "                       )\n",
    "    \n",
    "    # cal valid prediction\n",
    "    valid_prob = model.predict(valid_x)\n",
    "    valid_pred = np.where(valid_prob > threshold, 1, 0)\n",
    "    \n",
    "    # cal scores\n",
    "    recall    = recall_score(    valid_y, valid_pred)\n",
    "    precision = precision_score( valid_y, valid_pred)\n",
    "    auc_score = roc_auc_score(   valid_y, valid_prob)\n",
    "\n",
    "    # append scores\n",
    "    models.append(model)\n",
    "    recalls.append(recall)\n",
    "    precisions.append(precision)\n",
    "    auc_scores.append(auc_score)\n",
    "\n",
    "    print('==========================================================')"
   ]
  },
  {
   "cell_type": "code",
   "execution_count": null,
   "metadata": {},
   "outputs": [],
   "source": []
  },
  {
   "cell_type": "code",
   "execution_count": 49,
   "metadata": {},
   "outputs": [
    {
     "name": "stdout",
     "output_type": "stream",
     "text": [
      "0.8027883727348663\n"
     ]
    }
   ],
   "source": [
    "print(np.mean(auc_scores))"
   ]
  },
  {
   "cell_type": "code",
   "execution_count": 50,
   "metadata": {},
   "outputs": [
    {
     "data": {
      "text/html": [
       "<div>\n",
       "<style scoped>\n",
       "    .dataframe tbody tr th:only-of-type {\n",
       "        vertical-align: middle;\n",
       "    }\n",
       "\n",
       "    .dataframe tbody tr th {\n",
       "        vertical-align: top;\n",
       "    }\n",
       "\n",
       "    .dataframe thead th {\n",
       "        text-align: right;\n",
       "    }\n",
       "</style>\n",
       "<table border=\"1\" class=\"dataframe\">\n",
       "  <thead>\n",
       "    <tr style=\"text-align: right;\">\n",
       "      <th></th>\n",
       "      <th>user_id</th>\n",
       "      <th>time</th>\n",
       "      <th>model_nm</th>\n",
       "      <th>fwver</th>\n",
       "      <th>errtype</th>\n",
       "      <th>errcode</th>\n",
       "    </tr>\n",
       "  </thead>\n",
       "  <tbody>\n",
       "    <tr>\n",
       "      <th>0</th>\n",
       "      <td>30000</td>\n",
       "      <td>20201101030227</td>\n",
       "      <td>model_1</td>\n",
       "      <td>04.16.3553</td>\n",
       "      <td>31</td>\n",
       "      <td>1</td>\n",
       "    </tr>\n",
       "    <tr>\n",
       "      <th>1</th>\n",
       "      <td>30000</td>\n",
       "      <td>20201101030227</td>\n",
       "      <td>model_1</td>\n",
       "      <td>04.16.3553</td>\n",
       "      <td>33</td>\n",
       "      <td>2</td>\n",
       "    </tr>\n",
       "    <tr>\n",
       "      <th>2</th>\n",
       "      <td>30000</td>\n",
       "      <td>20201101030228</td>\n",
       "      <td>model_1</td>\n",
       "      <td>04.16.3553</td>\n",
       "      <td>15</td>\n",
       "      <td>1</td>\n",
       "    </tr>\n",
       "    <tr>\n",
       "      <th>3</th>\n",
       "      <td>30000</td>\n",
       "      <td>20201101030256</td>\n",
       "      <td>model_1</td>\n",
       "      <td>04.16.3553</td>\n",
       "      <td>22</td>\n",
       "      <td>1</td>\n",
       "    </tr>\n",
       "    <tr>\n",
       "      <th>4</th>\n",
       "      <td>30000</td>\n",
       "      <td>20201101030300</td>\n",
       "      <td>model_1</td>\n",
       "      <td>04.16.3553</td>\n",
       "      <td>11</td>\n",
       "      <td>1</td>\n",
       "    </tr>\n",
       "    <tr>\n",
       "      <th>...</th>\n",
       "      <td>...</td>\n",
       "      <td>...</td>\n",
       "      <td>...</td>\n",
       "      <td>...</td>\n",
       "      <td>...</td>\n",
       "      <td>...</td>\n",
       "    </tr>\n",
       "    <tr>\n",
       "      <th>16532643</th>\n",
       "      <td>44998</td>\n",
       "      <td>20201130210050</td>\n",
       "      <td>model_1</td>\n",
       "      <td>04.16.3553</td>\n",
       "      <td>40</td>\n",
       "      <td>0</td>\n",
       "    </tr>\n",
       "    <tr>\n",
       "      <th>16532644</th>\n",
       "      <td>44998</td>\n",
       "      <td>20201130211831</td>\n",
       "      <td>model_1</td>\n",
       "      <td>04.16.3553</td>\n",
       "      <td>31</td>\n",
       "      <td>1</td>\n",
       "    </tr>\n",
       "    <tr>\n",
       "      <th>16532645</th>\n",
       "      <td>44998</td>\n",
       "      <td>20201130211832</td>\n",
       "      <td>model_1</td>\n",
       "      <td>04.16.3553</td>\n",
       "      <td>15</td>\n",
       "      <td>1</td>\n",
       "    </tr>\n",
       "    <tr>\n",
       "      <th>16532646</th>\n",
       "      <td>44998</td>\n",
       "      <td>20201130212259</td>\n",
       "      <td>model_1</td>\n",
       "      <td>04.16.3553</td>\n",
       "      <td>16</td>\n",
       "      <td>1</td>\n",
       "    </tr>\n",
       "    <tr>\n",
       "      <th>16532647</th>\n",
       "      <td>44998</td>\n",
       "      <td>20201130212316</td>\n",
       "      <td>model_1</td>\n",
       "      <td>04.16.3553</td>\n",
       "      <td>31</td>\n",
       "      <td>0</td>\n",
       "    </tr>\n",
       "  </tbody>\n",
       "</table>\n",
       "<p>16532648 rows × 6 columns</p>\n",
       "</div>"
      ],
      "text/plain": [
       "          user_id            time model_nm       fwver  errtype errcode\n",
       "0           30000  20201101030227  model_1  04.16.3553       31       1\n",
       "1           30000  20201101030227  model_1  04.16.3553       33       2\n",
       "2           30000  20201101030228  model_1  04.16.3553       15       1\n",
       "3           30000  20201101030256  model_1  04.16.3553       22       1\n",
       "4           30000  20201101030300  model_1  04.16.3553       11       1\n",
       "...           ...             ...      ...         ...      ...     ...\n",
       "16532643    44998  20201130210050  model_1  04.16.3553       40       0\n",
       "16532644    44998  20201130211831  model_1  04.16.3553       31       1\n",
       "16532645    44998  20201130211832  model_1  04.16.3553       15       1\n",
       "16532646    44998  20201130212259  model_1  04.16.3553       16       1\n",
       "16532647    44998  20201130212316  model_1  04.16.3553       31       0\n",
       "\n",
       "[16532648 rows x 6 columns]"
      ]
     },
     "execution_count": 50,
     "metadata": {},
     "output_type": "execute_result"
    }
   ],
   "source": [
    "test_err = pd.read_csv('test_err_data.csv')\n",
    "test_err"
   ]
  },
  {
   "cell_type": "code",
   "execution_count": 51,
   "metadata": {},
   "outputs": [],
   "source": [
    "test_user_id_max = 44998\n",
    "test_user_id_min = 30000\n",
    "test_user_number = 14999"
   ]
  },
  {
   "cell_type": "code",
   "execution_count": 52,
   "metadata": {},
   "outputs": [
    {
     "name": "stderr",
     "output_type": "stream",
     "text": [
      "100%|██████████████████████████████████████████████████████████████████| 16532648/16532648 [01:40<00:00, 164660.95it/s]"
     ]
    },
    {
     "name": "stdout",
     "output_type": "stream",
     "text": [
      "(14999, 42)\n"
     ]
    },
    {
     "name": "stderr",
     "output_type": "stream",
     "text": [
      "\n"
     ]
    }
   ],
   "source": [
    "id_error = test_err[['user_id','errtype']].values\n",
    "test_x = np.zeros((test_user_number,42))\n",
    "for person_idx, err in tqdm(id_error):\n",
    "    # person_idx - test_user_id_min 위치에 person_idx, errtype에 해당하는 error값을 +1\n",
    "    test_x[person_idx - test_user_id_min,err - 1] += 1\n",
    "test_x = test_x.reshape(test_x.shape[0],-1)\n",
    "print(test_x.shape)"
   ]
  },
  {
   "cell_type": "code",
   "execution_count": 53,
   "metadata": {},
   "outputs": [],
   "source": [
    "pred_y_list = []\n",
    "for model in models:\n",
    "    pred_y = model.predict(test_x)\n",
    "    pred_y_list.append(pred_y.reshape(-1,1))\n",
    "    \n",
    "pred_ensemble = np.mean(pred_y_list, axis = 0)"
   ]
  },
  {
   "cell_type": "code",
   "execution_count": 54,
   "metadata": {},
   "outputs": [
    {
     "data": {
      "text/plain": [
       "array([[0.90949959],\n",
       "       [0.201073  ],\n",
       "       [0.273998  ],\n",
       "       ...,\n",
       "       [0.48851148],\n",
       "       [0.84239338],\n",
       "       [0.35692521]])"
      ]
     },
     "execution_count": 54,
     "metadata": {},
     "output_type": "execute_result"
    }
   ],
   "source": [
    "pred_ensemble"
   ]
  },
  {
   "cell_type": "code",
   "execution_count": 55,
   "metadata": {},
   "outputs": [
    {
     "data": {
      "text/html": [
       "<div>\n",
       "<style scoped>\n",
       "    .dataframe tbody tr th:only-of-type {\n",
       "        vertical-align: middle;\n",
       "    }\n",
       "\n",
       "    .dataframe tbody tr th {\n",
       "        vertical-align: top;\n",
       "    }\n",
       "\n",
       "    .dataframe thead th {\n",
       "        text-align: right;\n",
       "    }\n",
       "</style>\n",
       "<table border=\"1\" class=\"dataframe\">\n",
       "  <thead>\n",
       "    <tr style=\"text-align: right;\">\n",
       "      <th></th>\n",
       "      <th>user_id</th>\n",
       "      <th>problem</th>\n",
       "    </tr>\n",
       "  </thead>\n",
       "  <tbody>\n",
       "    <tr>\n",
       "      <th>0</th>\n",
       "      <td>30000</td>\n",
       "      <td>0.909500</td>\n",
       "    </tr>\n",
       "    <tr>\n",
       "      <th>1</th>\n",
       "      <td>30001</td>\n",
       "      <td>0.201073</td>\n",
       "    </tr>\n",
       "    <tr>\n",
       "      <th>2</th>\n",
       "      <td>30002</td>\n",
       "      <td>0.273998</td>\n",
       "    </tr>\n",
       "    <tr>\n",
       "      <th>3</th>\n",
       "      <td>30003</td>\n",
       "      <td>0.733823</td>\n",
       "    </tr>\n",
       "    <tr>\n",
       "      <th>4</th>\n",
       "      <td>30004</td>\n",
       "      <td>0.614840</td>\n",
       "    </tr>\n",
       "    <tr>\n",
       "      <th>...</th>\n",
       "      <td>...</td>\n",
       "      <td>...</td>\n",
       "    </tr>\n",
       "    <tr>\n",
       "      <th>14994</th>\n",
       "      <td>44994</td>\n",
       "      <td>0.290697</td>\n",
       "    </tr>\n",
       "    <tr>\n",
       "      <th>14995</th>\n",
       "      <td>44995</td>\n",
       "      <td>0.312142</td>\n",
       "    </tr>\n",
       "    <tr>\n",
       "      <th>14996</th>\n",
       "      <td>44996</td>\n",
       "      <td>0.488511</td>\n",
       "    </tr>\n",
       "    <tr>\n",
       "      <th>14997</th>\n",
       "      <td>44997</td>\n",
       "      <td>0.842393</td>\n",
       "    </tr>\n",
       "    <tr>\n",
       "      <th>14998</th>\n",
       "      <td>44998</td>\n",
       "      <td>0.356925</td>\n",
       "    </tr>\n",
       "  </tbody>\n",
       "</table>\n",
       "<p>14999 rows × 2 columns</p>\n",
       "</div>"
      ],
      "text/plain": [
       "       user_id   problem\n",
       "0        30000  0.909500\n",
       "1        30001  0.201073\n",
       "2        30002  0.273998\n",
       "3        30003  0.733823\n",
       "4        30004  0.614840\n",
       "...        ...       ...\n",
       "14994    44994  0.290697\n",
       "14995    44995  0.312142\n",
       "14996    44996  0.488511\n",
       "14997    44997  0.842393\n",
       "14998    44998  0.356925\n",
       "\n",
       "[14999 rows x 2 columns]"
      ]
     },
     "execution_count": 55,
     "metadata": {},
     "output_type": "execute_result"
    }
   ],
   "source": [
    "sample_submssion = pd.read_csv('sample_submission.csv')\n",
    "sample_submssion['problem'] = pred_ensemble.reshape(-1)\n",
    "sample_submssion.to_csv(\"dacon_baseline.csv\", index = False)\n",
    "sample_submssion"
   ]
  },
  {
   "cell_type": "code",
   "execution_count": null,
   "metadata": {},
   "outputs": [],
   "source": []
  }
 ],
 "metadata": {
  "kernelspec": {
   "display_name": "Python 3",
   "language": "python",
   "name": "python3"
  },
  "language_info": {
   "codemirror_mode": {
    "name": "ipython",
    "version": 3
   },
   "file_extension": ".py",
   "mimetype": "text/x-python",
   "name": "python",
   "nbconvert_exporter": "python",
   "pygments_lexer": "ipython3",
   "version": "3.7.6"
  }
 },
 "nbformat": 4,
 "nbformat_minor": 2
}
